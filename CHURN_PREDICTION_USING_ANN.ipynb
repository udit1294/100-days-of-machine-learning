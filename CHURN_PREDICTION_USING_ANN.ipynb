{
  "nbformat": 4,
  "nbformat_minor": 0,
  "metadata": {
    "colab": {
      "name": "CHURN PREDICTION USING ANN.ipynb",
      "provenance": [],
      "collapsed_sections": []
    },
    "kernelspec": {
      "name": "python3",
      "display_name": "Python 3"
    },
    "language_info": {
      "name": "python"
    },
    "accelerator": "GPU",
    "gpuClass": "standard"
  },
  "cells": [
    {
      "cell_type": "code",
      "execution_count": null,
      "metadata": {
        "id": "Is_X4nxkLs5o"
      },
      "outputs": [],
      "source": [
        "import pandas as pd"
      ]
    },
    {
      "cell_type": "code",
      "source": [
        "df=pd.read_csv('churn_fresh.csv')"
      ],
      "metadata": {
        "id": "vqIY8A4kL246"
      },
      "execution_count": null,
      "outputs": []
    },
    {
      "cell_type": "code",
      "source": [
        "df.head()"
      ],
      "metadata": {
        "colab": {
          "base_uri": "https://localhost:8080/",
          "height": 334
        },
        "id": "qZ9zoZGaL-LM",
        "outputId": "69092cd7-0ee8-460f-c7a8-c32e7f23d3e6"
      },
      "execution_count": null,
      "outputs": [
        {
          "output_type": "execute_result",
          "data": {
            "text/plain": [
              "   gender  SeniorCitizen  Partner  Dependents    tenure  PhoneService  \\\n",
              "0       1              0        1           0  0.000000             0   \n",
              "1       0              0        0           0  0.464789             1   \n",
              "2       0              0        0           0  0.014085             1   \n",
              "3       0              0        0           0  0.619718             0   \n",
              "4       1              0        0           0  0.014085             1   \n",
              "\n",
              "   MultipleLines  OnlineSecurity  OnlineBackup  DeviceProtection  ...  \\\n",
              "0              0               0             1                 0  ...   \n",
              "1              0               1             0                 1  ...   \n",
              "2              0               1             1                 0  ...   \n",
              "3              0               1             0                 1  ...   \n",
              "4              0               0             0                 0  ...   \n",
              "\n",
              "   InternetService_DSL  InternetService_Fiber optic  InternetService_No  \\\n",
              "0                    1                            0                   0   \n",
              "1                    1                            0                   0   \n",
              "2                    1                            0                   0   \n",
              "3                    1                            0                   0   \n",
              "4                    0                            1                   0   \n",
              "\n",
              "   Contract_Month-to-month  Contract_One year  Contract_Two year  \\\n",
              "0                        1                  0                  0   \n",
              "1                        0                  1                  0   \n",
              "2                        1                  0                  0   \n",
              "3                        0                  1                  0   \n",
              "4                        1                  0                  0   \n",
              "\n",
              "   PaymentMethod_Bank transfer (automatic)  \\\n",
              "0                                        0   \n",
              "1                                        0   \n",
              "2                                        0   \n",
              "3                                        1   \n",
              "4                                        0   \n",
              "\n",
              "   PaymentMethod_Credit card (automatic)  PaymentMethod_Electronic check  \\\n",
              "0                                      0                               1   \n",
              "1                                      0                               0   \n",
              "2                                      0                               0   \n",
              "3                                      0                               0   \n",
              "4                                      0                               1   \n",
              "\n",
              "   PaymentMethod_Mailed check  \n",
              "0                           0  \n",
              "1                           1  \n",
              "2                           1  \n",
              "3                           0  \n",
              "4                           0  \n",
              "\n",
              "[5 rows x 27 columns]"
            ],
            "text/html": [
              "\n",
              "  <div id=\"df-5a88ea8e-6107-4d03-a5de-cfa6d46856d4\">\n",
              "    <div class=\"colab-df-container\">\n",
              "      <div>\n",
              "<style scoped>\n",
              "    .dataframe tbody tr th:only-of-type {\n",
              "        vertical-align: middle;\n",
              "    }\n",
              "\n",
              "    .dataframe tbody tr th {\n",
              "        vertical-align: top;\n",
              "    }\n",
              "\n",
              "    .dataframe thead th {\n",
              "        text-align: right;\n",
              "    }\n",
              "</style>\n",
              "<table border=\"1\" class=\"dataframe\">\n",
              "  <thead>\n",
              "    <tr style=\"text-align: right;\">\n",
              "      <th></th>\n",
              "      <th>gender</th>\n",
              "      <th>SeniorCitizen</th>\n",
              "      <th>Partner</th>\n",
              "      <th>Dependents</th>\n",
              "      <th>tenure</th>\n",
              "      <th>PhoneService</th>\n",
              "      <th>MultipleLines</th>\n",
              "      <th>OnlineSecurity</th>\n",
              "      <th>OnlineBackup</th>\n",
              "      <th>DeviceProtection</th>\n",
              "      <th>...</th>\n",
              "      <th>InternetService_DSL</th>\n",
              "      <th>InternetService_Fiber optic</th>\n",
              "      <th>InternetService_No</th>\n",
              "      <th>Contract_Month-to-month</th>\n",
              "      <th>Contract_One year</th>\n",
              "      <th>Contract_Two year</th>\n",
              "      <th>PaymentMethod_Bank transfer (automatic)</th>\n",
              "      <th>PaymentMethod_Credit card (automatic)</th>\n",
              "      <th>PaymentMethod_Electronic check</th>\n",
              "      <th>PaymentMethod_Mailed check</th>\n",
              "    </tr>\n",
              "  </thead>\n",
              "  <tbody>\n",
              "    <tr>\n",
              "      <th>0</th>\n",
              "      <td>1</td>\n",
              "      <td>0</td>\n",
              "      <td>1</td>\n",
              "      <td>0</td>\n",
              "      <td>0.000000</td>\n",
              "      <td>0</td>\n",
              "      <td>0</td>\n",
              "      <td>0</td>\n",
              "      <td>1</td>\n",
              "      <td>0</td>\n",
              "      <td>...</td>\n",
              "      <td>1</td>\n",
              "      <td>0</td>\n",
              "      <td>0</td>\n",
              "      <td>1</td>\n",
              "      <td>0</td>\n",
              "      <td>0</td>\n",
              "      <td>0</td>\n",
              "      <td>0</td>\n",
              "      <td>1</td>\n",
              "      <td>0</td>\n",
              "    </tr>\n",
              "    <tr>\n",
              "      <th>1</th>\n",
              "      <td>0</td>\n",
              "      <td>0</td>\n",
              "      <td>0</td>\n",
              "      <td>0</td>\n",
              "      <td>0.464789</td>\n",
              "      <td>1</td>\n",
              "      <td>0</td>\n",
              "      <td>1</td>\n",
              "      <td>0</td>\n",
              "      <td>1</td>\n",
              "      <td>...</td>\n",
              "      <td>1</td>\n",
              "      <td>0</td>\n",
              "      <td>0</td>\n",
              "      <td>0</td>\n",
              "      <td>1</td>\n",
              "      <td>0</td>\n",
              "      <td>0</td>\n",
              "      <td>0</td>\n",
              "      <td>0</td>\n",
              "      <td>1</td>\n",
              "    </tr>\n",
              "    <tr>\n",
              "      <th>2</th>\n",
              "      <td>0</td>\n",
              "      <td>0</td>\n",
              "      <td>0</td>\n",
              "      <td>0</td>\n",
              "      <td>0.014085</td>\n",
              "      <td>1</td>\n",
              "      <td>0</td>\n",
              "      <td>1</td>\n",
              "      <td>1</td>\n",
              "      <td>0</td>\n",
              "      <td>...</td>\n",
              "      <td>1</td>\n",
              "      <td>0</td>\n",
              "      <td>0</td>\n",
              "      <td>1</td>\n",
              "      <td>0</td>\n",
              "      <td>0</td>\n",
              "      <td>0</td>\n",
              "      <td>0</td>\n",
              "      <td>0</td>\n",
              "      <td>1</td>\n",
              "    </tr>\n",
              "    <tr>\n",
              "      <th>3</th>\n",
              "      <td>0</td>\n",
              "      <td>0</td>\n",
              "      <td>0</td>\n",
              "      <td>0</td>\n",
              "      <td>0.619718</td>\n",
              "      <td>0</td>\n",
              "      <td>0</td>\n",
              "      <td>1</td>\n",
              "      <td>0</td>\n",
              "      <td>1</td>\n",
              "      <td>...</td>\n",
              "      <td>1</td>\n",
              "      <td>0</td>\n",
              "      <td>0</td>\n",
              "      <td>0</td>\n",
              "      <td>1</td>\n",
              "      <td>0</td>\n",
              "      <td>1</td>\n",
              "      <td>0</td>\n",
              "      <td>0</td>\n",
              "      <td>0</td>\n",
              "    </tr>\n",
              "    <tr>\n",
              "      <th>4</th>\n",
              "      <td>1</td>\n",
              "      <td>0</td>\n",
              "      <td>0</td>\n",
              "      <td>0</td>\n",
              "      <td>0.014085</td>\n",
              "      <td>1</td>\n",
              "      <td>0</td>\n",
              "      <td>0</td>\n",
              "      <td>0</td>\n",
              "      <td>0</td>\n",
              "      <td>...</td>\n",
              "      <td>0</td>\n",
              "      <td>1</td>\n",
              "      <td>0</td>\n",
              "      <td>1</td>\n",
              "      <td>0</td>\n",
              "      <td>0</td>\n",
              "      <td>0</td>\n",
              "      <td>0</td>\n",
              "      <td>1</td>\n",
              "      <td>0</td>\n",
              "    </tr>\n",
              "  </tbody>\n",
              "</table>\n",
              "<p>5 rows × 27 columns</p>\n",
              "</div>\n",
              "      <button class=\"colab-df-convert\" onclick=\"convertToInteractive('df-5a88ea8e-6107-4d03-a5de-cfa6d46856d4')\"\n",
              "              title=\"Convert this dataframe to an interactive table.\"\n",
              "              style=\"display:none;\">\n",
              "        \n",
              "  <svg xmlns=\"http://www.w3.org/2000/svg\" height=\"24px\"viewBox=\"0 0 24 24\"\n",
              "       width=\"24px\">\n",
              "    <path d=\"M0 0h24v24H0V0z\" fill=\"none\"/>\n",
              "    <path d=\"M18.56 5.44l.94 2.06.94-2.06 2.06-.94-2.06-.94-.94-2.06-.94 2.06-2.06.94zm-11 1L8.5 8.5l.94-2.06 2.06-.94-2.06-.94L8.5 2.5l-.94 2.06-2.06.94zm10 10l.94 2.06.94-2.06 2.06-.94-2.06-.94-.94-2.06-.94 2.06-2.06.94z\"/><path d=\"M17.41 7.96l-1.37-1.37c-.4-.4-.92-.59-1.43-.59-.52 0-1.04.2-1.43.59L10.3 9.45l-7.72 7.72c-.78.78-.78 2.05 0 2.83L4 21.41c.39.39.9.59 1.41.59.51 0 1.02-.2 1.41-.59l7.78-7.78 2.81-2.81c.8-.78.8-2.07 0-2.86zM5.41 20L4 18.59l7.72-7.72 1.47 1.35L5.41 20z\"/>\n",
              "  </svg>\n",
              "      </button>\n",
              "      \n",
              "  <style>\n",
              "    .colab-df-container {\n",
              "      display:flex;\n",
              "      flex-wrap:wrap;\n",
              "      gap: 12px;\n",
              "    }\n",
              "\n",
              "    .colab-df-convert {\n",
              "      background-color: #E8F0FE;\n",
              "      border: none;\n",
              "      border-radius: 50%;\n",
              "      cursor: pointer;\n",
              "      display: none;\n",
              "      fill: #1967D2;\n",
              "      height: 32px;\n",
              "      padding: 0 0 0 0;\n",
              "      width: 32px;\n",
              "    }\n",
              "\n",
              "    .colab-df-convert:hover {\n",
              "      background-color: #E2EBFA;\n",
              "      box-shadow: 0px 1px 2px rgba(60, 64, 67, 0.3), 0px 1px 3px 1px rgba(60, 64, 67, 0.15);\n",
              "      fill: #174EA6;\n",
              "    }\n",
              "\n",
              "    [theme=dark] .colab-df-convert {\n",
              "      background-color: #3B4455;\n",
              "      fill: #D2E3FC;\n",
              "    }\n",
              "\n",
              "    [theme=dark] .colab-df-convert:hover {\n",
              "      background-color: #434B5C;\n",
              "      box-shadow: 0px 1px 3px 1px rgba(0, 0, 0, 0.15);\n",
              "      filter: drop-shadow(0px 1px 2px rgba(0, 0, 0, 0.3));\n",
              "      fill: #FFFFFF;\n",
              "    }\n",
              "  </style>\n",
              "\n",
              "      <script>\n",
              "        const buttonEl =\n",
              "          document.querySelector('#df-5a88ea8e-6107-4d03-a5de-cfa6d46856d4 button.colab-df-convert');\n",
              "        buttonEl.style.display =\n",
              "          google.colab.kernel.accessAllowed ? 'block' : 'none';\n",
              "\n",
              "        async function convertToInteractive(key) {\n",
              "          const element = document.querySelector('#df-5a88ea8e-6107-4d03-a5de-cfa6d46856d4');\n",
              "          const dataTable =\n",
              "            await google.colab.kernel.invokeFunction('convertToInteractive',\n",
              "                                                     [key], {});\n",
              "          if (!dataTable) return;\n",
              "\n",
              "          const docLinkHtml = 'Like what you see? Visit the ' +\n",
              "            '<a target=\"_blank\" href=https://colab.research.google.com/notebooks/data_table.ipynb>data table notebook</a>'\n",
              "            + ' to learn more about interactive tables.';\n",
              "          element.innerHTML = '';\n",
              "          dataTable['output_type'] = 'display_data';\n",
              "          await google.colab.output.renderOutput(dataTable, element);\n",
              "          const docLink = document.createElement('div');\n",
              "          docLink.innerHTML = docLinkHtml;\n",
              "          element.appendChild(docLink);\n",
              "        }\n",
              "      </script>\n",
              "    </div>\n",
              "  </div>\n",
              "  "
            ]
          },
          "metadata": {},
          "execution_count": 16
        }
      ]
    },
    {
      "cell_type": "code",
      "source": [
        ""
      ],
      "metadata": {
        "id": "6AZBbQJpOghE"
      },
      "execution_count": null,
      "outputs": []
    },
    {
      "cell_type": "code",
      "source": [
        "import tensorflow\n",
        "import keras"
      ],
      "metadata": {
        "id": "IBrgrtHOMc9F"
      },
      "execution_count": null,
      "outputs": []
    },
    {
      "cell_type": "code",
      "source": [
        "from keras.models import Sequential\n",
        "from keras.layers.core import Dense,Activation,Dropout"
      ],
      "metadata": {
        "id": "ZTqAhVVvM7Kw"
      },
      "execution_count": null,
      "outputs": []
    },
    {
      "cell_type": "code",
      "source": [
        "from sklearn.model_selection import train_test_split\n",
        "X=df.drop('Churn',axis=1)\n",
        "y=df['Churn']\n",
        "X_train,X_test,y_train,y_test=train_test_split(X,y,test_size=0.2,random_state=5)"
      ],
      "metadata": {
        "id": "ZobuTf3hNPlu"
      },
      "execution_count": null,
      "outputs": []
    },
    {
      "cell_type": "code",
      "source": [
        "len(X_train.columns)"
      ],
      "metadata": {
        "colab": {
          "base_uri": "https://localhost:8080/"
        },
        "id": "D-bJb7vzN56g",
        "outputId": "7862e004-dc46-4008-a66f-d89de8292b39"
      },
      "execution_count": null,
      "outputs": [
        {
          "output_type": "execute_result",
          "data": {
            "text/plain": [
              "26"
            ]
          },
          "metadata": {},
          "execution_count": 45
        }
      ]
    },
    {
      "cell_type": "code",
      "source": [
        "model=Sequential()\n",
        "model.add(Dense(20, input_shape=(26,)))"
      ],
      "metadata": {
        "id": "dzGDpUQ0NZcK"
      },
      "execution_count": null,
      "outputs": []
    },
    {
      "cell_type": "code",
      "source": [
        "model.add(Activation('relu'))\n",
        "model.add(Dropout(0.2))\n",
        "model.add(Dense(15)) ### HL2\n",
        "model.add(Activation('relu'))\n",
        "model.add(Dropout(0.2))\n",
        "model.add(Dense(1))\n",
        "model.add(Activation('sigmoid'))"
      ],
      "metadata": {
        "id": "hmwn8MgSPccf"
      },
      "execution_count": null,
      "outputs": []
    },
    {
      "cell_type": "code",
      "source": [
        "model.summary()"
      ],
      "metadata": {
        "colab": {
          "base_uri": "https://localhost:8080/"
        },
        "id": "nhCY7yLEP4WJ",
        "outputId": "303b1503-ff8b-4a04-a00e-f91b4e710237"
      },
      "execution_count": null,
      "outputs": [
        {
          "output_type": "stream",
          "name": "stdout",
          "text": [
            "Model: \"sequential_1\"\n",
            "_________________________________________________________________\n",
            " Layer (type)                Output Shape              Param #   \n",
            "=================================================================\n",
            " dense_5 (Dense)             (None, 20)                540       \n",
            "                                                                 \n",
            " activation_6 (Activation)   (None, 20)                0         \n",
            "                                                                 \n",
            " dropout_4 (Dropout)         (None, 20)                0         \n",
            "                                                                 \n",
            " dense_6 (Dense)             (None, 15)                315       \n",
            "                                                                 \n",
            " activation_7 (Activation)   (None, 15)                0         \n",
            "                                                                 \n",
            " dropout_5 (Dropout)         (None, 15)                0         \n",
            "                                                                 \n",
            " dense_7 (Dense)             (None, 1)                 16        \n",
            "                                                                 \n",
            " activation_8 (Activation)   (None, 1)                 0         \n",
            "                                                                 \n",
            "=================================================================\n",
            "Total params: 871\n",
            "Trainable params: 871\n",
            "Non-trainable params: 0\n",
            "_________________________________________________________________\n"
          ]
        }
      ]
    },
    {
      "cell_type": "code",
      "source": [
        "model.compile(loss='binary_crossentropy', optimizer='adam', metrics=['accuracy'])"
      ],
      "metadata": {
        "id": "FHZuxfCmP6kA"
      },
      "execution_count": null,
      "outputs": []
    },
    {
      "cell_type": "code",
      "source": [
        "history=model.fit(X_train, y_train, epochs=100)"
      ],
      "metadata": {
        "colab": {
          "base_uri": "https://localhost:8080/"
        },
        "id": "47VdZU2lQGO1",
        "outputId": "0c75afb9-5fd0-4686-929e-9e20afedb519"
      },
      "execution_count": null,
      "outputs": [
        {
          "output_type": "stream",
          "name": "stdout",
          "text": [
            "Epoch 1/100\n",
            "176/176 [==============================] - 1s 3ms/step - loss: 0.5298 - accuracy: 0.7349\n",
            "Epoch 2/100\n",
            "176/176 [==============================] - 1s 3ms/step - loss: 0.4579 - accuracy: 0.7717\n",
            "Epoch 3/100\n",
            "176/176 [==============================] - 1s 3ms/step - loss: 0.4472 - accuracy: 0.7831\n",
            "Epoch 4/100\n",
            "176/176 [==============================] - 1s 3ms/step - loss: 0.4389 - accuracy: 0.7902\n",
            "Epoch 5/100\n",
            "176/176 [==============================] - 1s 3ms/step - loss: 0.4370 - accuracy: 0.7927\n",
            "Epoch 6/100\n",
            "176/176 [==============================] - 1s 3ms/step - loss: 0.4273 - accuracy: 0.7963\n",
            "Epoch 7/100\n",
            "176/176 [==============================] - 1s 3ms/step - loss: 0.4277 - accuracy: 0.7963\n",
            "Epoch 8/100\n",
            "176/176 [==============================] - 1s 3ms/step - loss: 0.4299 - accuracy: 0.8021\n",
            "Epoch 9/100\n",
            "176/176 [==============================] - 1s 3ms/step - loss: 0.4270 - accuracy: 0.7998\n",
            "Epoch 10/100\n",
            "176/176 [==============================] - 1s 3ms/step - loss: 0.4242 - accuracy: 0.7980\n",
            "Epoch 11/100\n",
            "176/176 [==============================] - 1s 3ms/step - loss: 0.4191 - accuracy: 0.8011\n",
            "Epoch 12/100\n",
            "176/176 [==============================] - 1s 3ms/step - loss: 0.4172 - accuracy: 0.8011\n",
            "Epoch 13/100\n",
            "176/176 [==============================] - 1s 3ms/step - loss: 0.4162 - accuracy: 0.8059\n",
            "Epoch 14/100\n",
            "176/176 [==============================] - 1s 3ms/step - loss: 0.4180 - accuracy: 0.8066\n",
            "Epoch 15/100\n",
            "176/176 [==============================] - 1s 3ms/step - loss: 0.4145 - accuracy: 0.8030\n",
            "Epoch 16/100\n",
            "176/176 [==============================] - 1s 3ms/step - loss: 0.4130 - accuracy: 0.8101\n",
            "Epoch 17/100\n",
            "176/176 [==============================] - 1s 3ms/step - loss: 0.4153 - accuracy: 0.8085\n",
            "Epoch 18/100\n",
            "176/176 [==============================] - 0s 3ms/step - loss: 0.4112 - accuracy: 0.8053\n",
            "Epoch 19/100\n",
            "176/176 [==============================] - 1s 3ms/step - loss: 0.4122 - accuracy: 0.8073\n",
            "Epoch 20/100\n",
            "176/176 [==============================] - 1s 3ms/step - loss: 0.4110 - accuracy: 0.8059\n",
            "Epoch 21/100\n",
            "176/176 [==============================] - 1s 3ms/step - loss: 0.4096 - accuracy: 0.8091\n",
            "Epoch 22/100\n",
            "176/176 [==============================] - 1s 3ms/step - loss: 0.4082 - accuracy: 0.8080\n",
            "Epoch 23/100\n",
            "176/176 [==============================] - 1s 3ms/step - loss: 0.4101 - accuracy: 0.8092\n",
            "Epoch 24/100\n",
            "176/176 [==============================] - 0s 3ms/step - loss: 0.4073 - accuracy: 0.8107\n",
            "Epoch 25/100\n",
            "176/176 [==============================] - 1s 3ms/step - loss: 0.4116 - accuracy: 0.8091\n",
            "Epoch 26/100\n",
            "176/176 [==============================] - 1s 3ms/step - loss: 0.4074 - accuracy: 0.8133\n",
            "Epoch 27/100\n",
            "176/176 [==============================] - 1s 3ms/step - loss: 0.4076 - accuracy: 0.8105\n",
            "Epoch 28/100\n",
            "176/176 [==============================] - 1s 3ms/step - loss: 0.4080 - accuracy: 0.8078\n",
            "Epoch 29/100\n",
            "176/176 [==============================] - 1s 3ms/step - loss: 0.4050 - accuracy: 0.8108\n",
            "Epoch 30/100\n",
            "176/176 [==============================] - 1s 3ms/step - loss: 0.4065 - accuracy: 0.8094\n",
            "Epoch 31/100\n",
            "176/176 [==============================] - 0s 3ms/step - loss: 0.4019 - accuracy: 0.8133\n",
            "Epoch 32/100\n",
            "176/176 [==============================] - 1s 3ms/step - loss: 0.4063 - accuracy: 0.8108\n",
            "Epoch 33/100\n",
            "176/176 [==============================] - 1s 3ms/step - loss: 0.4061 - accuracy: 0.8105\n",
            "Epoch 34/100\n",
            "176/176 [==============================] - 1s 3ms/step - loss: 0.4061 - accuracy: 0.8114\n",
            "Epoch 35/100\n",
            "176/176 [==============================] - 1s 3ms/step - loss: 0.4040 - accuracy: 0.8124\n",
            "Epoch 36/100\n",
            "176/176 [==============================] - 1s 3ms/step - loss: 0.4034 - accuracy: 0.8114\n",
            "Epoch 37/100\n",
            "176/176 [==============================] - 1s 3ms/step - loss: 0.4041 - accuracy: 0.8114\n",
            "Epoch 38/100\n",
            "176/176 [==============================] - 1s 3ms/step - loss: 0.4029 - accuracy: 0.8123\n",
            "Epoch 39/100\n",
            "176/176 [==============================] - 1s 3ms/step - loss: 0.4013 - accuracy: 0.8132\n",
            "Epoch 40/100\n",
            "176/176 [==============================] - 1s 3ms/step - loss: 0.3998 - accuracy: 0.8132\n",
            "Epoch 41/100\n",
            "176/176 [==============================] - 1s 3ms/step - loss: 0.4008 - accuracy: 0.8107\n",
            "Epoch 42/100\n",
            "176/176 [==============================] - 1s 3ms/step - loss: 0.3999 - accuracy: 0.8169\n",
            "Epoch 43/100\n",
            "176/176 [==============================] - 1s 3ms/step - loss: 0.3991 - accuracy: 0.8158\n",
            "Epoch 44/100\n",
            "176/176 [==============================] - 1s 3ms/step - loss: 0.3981 - accuracy: 0.8164\n",
            "Epoch 45/100\n",
            "176/176 [==============================] - 1s 3ms/step - loss: 0.4011 - accuracy: 0.8151\n",
            "Epoch 46/100\n",
            "176/176 [==============================] - 1s 3ms/step - loss: 0.3985 - accuracy: 0.8156\n",
            "Epoch 47/100\n",
            "176/176 [==============================] - 1s 3ms/step - loss: 0.4005 - accuracy: 0.8160\n",
            "Epoch 48/100\n",
            "176/176 [==============================] - 1s 3ms/step - loss: 0.3970 - accuracy: 0.8171\n",
            "Epoch 49/100\n",
            "176/176 [==============================] - 1s 3ms/step - loss: 0.4031 - accuracy: 0.8132\n",
            "Epoch 50/100\n",
            "176/176 [==============================] - 1s 3ms/step - loss: 0.3954 - accuracy: 0.8196\n",
            "Epoch 51/100\n",
            "176/176 [==============================] - 1s 3ms/step - loss: 0.3995 - accuracy: 0.8183\n",
            "Epoch 52/100\n",
            "176/176 [==============================] - 1s 3ms/step - loss: 0.3946 - accuracy: 0.8153\n",
            "Epoch 53/100\n",
            "176/176 [==============================] - 1s 3ms/step - loss: 0.3959 - accuracy: 0.8132\n",
            "Epoch 54/100\n",
            "176/176 [==============================] - 1s 3ms/step - loss: 0.3983 - accuracy: 0.8167\n",
            "Epoch 55/100\n",
            "176/176 [==============================] - 1s 3ms/step - loss: 0.3942 - accuracy: 0.8144\n",
            "Epoch 56/100\n",
            "176/176 [==============================] - 1s 3ms/step - loss: 0.3963 - accuracy: 0.8140\n",
            "Epoch 57/100\n",
            "176/176 [==============================] - 1s 3ms/step - loss: 0.3948 - accuracy: 0.8181\n",
            "Epoch 58/100\n",
            "176/176 [==============================] - 1s 3ms/step - loss: 0.3952 - accuracy: 0.8188\n",
            "Epoch 59/100\n",
            "176/176 [==============================] - 1s 3ms/step - loss: 0.3979 - accuracy: 0.8148\n",
            "Epoch 60/100\n",
            "176/176 [==============================] - 1s 3ms/step - loss: 0.3943 - accuracy: 0.8132\n",
            "Epoch 61/100\n",
            "176/176 [==============================] - 1s 3ms/step - loss: 0.3945 - accuracy: 0.8181\n",
            "Epoch 62/100\n",
            "176/176 [==============================] - 1s 3ms/step - loss: 0.3966 - accuracy: 0.8192\n",
            "Epoch 63/100\n",
            "176/176 [==============================] - 1s 3ms/step - loss: 0.3919 - accuracy: 0.8208\n",
            "Epoch 64/100\n",
            "176/176 [==============================] - 1s 3ms/step - loss: 0.3936 - accuracy: 0.8201\n",
            "Epoch 65/100\n",
            "176/176 [==============================] - 1s 3ms/step - loss: 0.3932 - accuracy: 0.8188\n",
            "Epoch 66/100\n",
            "176/176 [==============================] - 1s 3ms/step - loss: 0.3935 - accuracy: 0.8156\n",
            "Epoch 67/100\n",
            "176/176 [==============================] - 1s 3ms/step - loss: 0.3973 - accuracy: 0.8137\n",
            "Epoch 68/100\n",
            "176/176 [==============================] - 1s 3ms/step - loss: 0.3936 - accuracy: 0.8135\n",
            "Epoch 69/100\n",
            "176/176 [==============================] - 1s 3ms/step - loss: 0.3958 - accuracy: 0.8137\n",
            "Epoch 70/100\n",
            "176/176 [==============================] - 1s 3ms/step - loss: 0.3917 - accuracy: 0.8213\n",
            "Epoch 71/100\n",
            "176/176 [==============================] - 1s 3ms/step - loss: 0.3940 - accuracy: 0.8181\n",
            "Epoch 72/100\n",
            "176/176 [==============================] - 1s 3ms/step - loss: 0.3957 - accuracy: 0.8180\n",
            "Epoch 73/100\n",
            "176/176 [==============================] - 1s 3ms/step - loss: 0.3893 - accuracy: 0.8167\n",
            "Epoch 74/100\n",
            "176/176 [==============================] - 1s 3ms/step - loss: 0.3951 - accuracy: 0.8164\n",
            "Epoch 75/100\n",
            "176/176 [==============================] - 1s 3ms/step - loss: 0.3899 - accuracy: 0.8201\n",
            "Epoch 76/100\n",
            "176/176 [==============================] - 1s 3ms/step - loss: 0.3914 - accuracy: 0.8171\n",
            "Epoch 77/100\n",
            "176/176 [==============================] - 1s 3ms/step - loss: 0.3900 - accuracy: 0.8201\n",
            "Epoch 78/100\n",
            "176/176 [==============================] - 1s 3ms/step - loss: 0.3925 - accuracy: 0.8231\n",
            "Epoch 79/100\n",
            "176/176 [==============================] - 1s 3ms/step - loss: 0.3880 - accuracy: 0.8217\n",
            "Epoch 80/100\n",
            "176/176 [==============================] - 1s 3ms/step - loss: 0.3870 - accuracy: 0.8224\n",
            "Epoch 81/100\n",
            "176/176 [==============================] - 1s 3ms/step - loss: 0.3930 - accuracy: 0.8165\n",
            "Epoch 82/100\n",
            "176/176 [==============================] - 1s 3ms/step - loss: 0.3854 - accuracy: 0.8217\n",
            "Epoch 83/100\n",
            "176/176 [==============================] - 1s 3ms/step - loss: 0.3881 - accuracy: 0.8236\n",
            "Epoch 84/100\n",
            "176/176 [==============================] - 1s 3ms/step - loss: 0.3910 - accuracy: 0.8185\n",
            "Epoch 85/100\n",
            "176/176 [==============================] - 1s 3ms/step - loss: 0.3950 - accuracy: 0.8178\n",
            "Epoch 86/100\n",
            "176/176 [==============================] - 1s 3ms/step - loss: 0.3917 - accuracy: 0.8201\n",
            "Epoch 87/100\n",
            "176/176 [==============================] - 1s 3ms/step - loss: 0.3922 - accuracy: 0.8176\n",
            "Epoch 88/100\n",
            "176/176 [==============================] - 1s 3ms/step - loss: 0.3890 - accuracy: 0.8192\n",
            "Epoch 89/100\n",
            "176/176 [==============================] - 1s 3ms/step - loss: 0.3890 - accuracy: 0.8206\n",
            "Epoch 90/100\n",
            "176/176 [==============================] - 1s 3ms/step - loss: 0.3887 - accuracy: 0.8176\n",
            "Epoch 91/100\n",
            "176/176 [==============================] - 1s 3ms/step - loss: 0.3890 - accuracy: 0.8240\n",
            "Epoch 92/100\n",
            "176/176 [==============================] - 1s 3ms/step - loss: 0.3921 - accuracy: 0.8228\n",
            "Epoch 93/100\n",
            "176/176 [==============================] - 1s 3ms/step - loss: 0.3896 - accuracy: 0.8204\n",
            "Epoch 94/100\n",
            "176/176 [==============================] - 1s 3ms/step - loss: 0.3911 - accuracy: 0.8174\n",
            "Epoch 95/100\n",
            "176/176 [==============================] - 1s 3ms/step - loss: 0.3884 - accuracy: 0.8226\n",
            "Epoch 96/100\n",
            "176/176 [==============================] - 1s 3ms/step - loss: 0.3875 - accuracy: 0.8229\n",
            "Epoch 97/100\n",
            "176/176 [==============================] - 1s 3ms/step - loss: 0.3872 - accuracy: 0.8217\n",
            "Epoch 98/100\n",
            "176/176 [==============================] - 1s 3ms/step - loss: 0.3850 - accuracy: 0.8167\n",
            "Epoch 99/100\n",
            "176/176 [==============================] - 1s 3ms/step - loss: 0.3881 - accuracy: 0.8180\n",
            "Epoch 100/100\n",
            "176/176 [==============================] - 1s 3ms/step - loss: 0.3869 - accuracy: 0.8183\n"
          ]
        }
      ]
    },
    {
      "cell_type": "code",
      "source": [
        "score = model.evaluate(X_test, y_test)\n",
        "print('Test score:', score[0])\n",
        "print('Test accuracy:', score[1])"
      ],
      "metadata": {
        "colab": {
          "base_uri": "https://localhost:8080/"
        },
        "id": "iW-dgfGvQXNv",
        "outputId": "4036f908-a584-4d92-cd5d-c0640f6342b3"
      },
      "execution_count": null,
      "outputs": [
        {
          "output_type": "stream",
          "name": "stdout",
          "text": [
            "44/44 [==============================] - 0s 2ms/step - loss: 0.4519 - accuracy: 0.7790\n",
            "Test score: 0.4519225060939789\n",
            "Test accuracy: 0.7789623141288757\n"
          ]
        }
      ]
    },
    {
      "cell_type": "code",
      "source": [
        "import seaborn as sns\n",
        "from sklearn import metrics\n",
        "import matplotlib.pyplot as plt"
      ],
      "metadata": {
        "id": "IJ2gcBjeR9lU"
      },
      "execution_count": null,
      "outputs": []
    },
    {
      "cell_type": "code",
      "source": [
        "y_pred=model.predict(X_test)"
      ],
      "metadata": {
        "id": "Toy3E04OSa4a"
      },
      "execution_count": null,
      "outputs": []
    },
    {
      "cell_type": "code",
      "source": [
        "y_pred[:5]"
      ],
      "metadata": {
        "colab": {
          "base_uri": "https://localhost:8080/"
        },
        "id": "-oqiBhZoTXVc",
        "outputId": "62d1b362-5066-43b3-926a-9af04265be22"
      },
      "execution_count": null,
      "outputs": [
        {
          "output_type": "execute_result",
          "data": {
            "text/plain": [
              "array([[0.33981577],\n",
              "       [0.41979873],\n",
              "       [0.00400513],\n",
              "       [0.69137985],\n",
              "       [0.36939463]], dtype=float32)"
            ]
          },
          "metadata": {},
          "execution_count": 54
        }
      ]
    },
    {
      "cell_type": "code",
      "source": [
        "y_test[:5]"
      ],
      "metadata": {
        "colab": {
          "base_uri": "https://localhost:8080/"
        },
        "id": "-Lj4T5c2Rjpc",
        "outputId": "4ed45ab3-6d71-4744-c0fa-7f2a747a508b"
      },
      "execution_count": null,
      "outputs": [
        {
          "output_type": "execute_result",
          "data": {
            "text/plain": [
              "2655    0\n",
              "743     0\n",
              "5570    1\n",
              "64      1\n",
              "3282    1\n",
              "Name: Churn, dtype: int64"
            ]
          },
          "metadata": {},
          "execution_count": 55
        }
      ]
    },
    {
      "cell_type": "code",
      "source": [
        "Y_pred=[]\n",
        "for element in y_pred:\n",
        "  if element>0.5:\n",
        "    Y_pred.append(1)\n",
        "  else:\n",
        "    Y_pred.append(0)"
      ],
      "metadata": {
        "id": "xzmPz6nZSLnt"
      },
      "execution_count": null,
      "outputs": []
    },
    {
      "cell_type": "code",
      "source": [
        "df1=pd.DataFrame({'Actual':y_test,'Predicted':Y_pred})\n",
        "print(df1)"
      ],
      "metadata": {
        "colab": {
          "base_uri": "https://localhost:8080/"
        },
        "id": "3wB4lgfATKAI",
        "outputId": "94935056-1404-409a-eda0-ed74c04d35f8"
      },
      "execution_count": null,
      "outputs": [
        {
          "output_type": "stream",
          "name": "stdout",
          "text": [
            "      Actual  Predicted\n",
            "2655       0          0\n",
            "743        0          0\n",
            "5570       1          0\n",
            "64         1          1\n",
            "3282       1          0\n",
            "...      ...        ...\n",
            "2019       0          0\n",
            "4388       1          1\n",
            "4074       1          1\n",
            "1293       0          1\n",
            "4891       1          1\n",
            "\n",
            "[1407 rows x 2 columns]\n"
          ]
        }
      ]
    },
    {
      "cell_type": "code",
      "source": [
        "from sklearn.metrics import classification_report,confusion_matrix\n",
        "print(classification_report(y_test,Y_pred))"
      ],
      "metadata": {
        "colab": {
          "base_uri": "https://localhost:8080/"
        },
        "id": "KZs-tq2mT-2A",
        "outputId": "35aaf1ad-48e2-45b1-b8d7-24f7f96daff0"
      },
      "execution_count": null,
      "outputs": [
        {
          "output_type": "stream",
          "name": "stdout",
          "text": [
            "              precision    recall  f1-score   support\n",
            "\n",
            "           0       0.81      0.90      0.85       999\n",
            "           1       0.66      0.49      0.56       408\n",
            "\n",
            "    accuracy                           0.78      1407\n",
            "   macro avg       0.74      0.69      0.71      1407\n",
            "weighted avg       0.77      0.78      0.77      1407\n",
            "\n"
          ]
        }
      ]
    },
    {
      "cell_type": "code",
      "source": [
        "cm = tensorflow.math.confusion_matrix(y_test,Y_pred)\n",
        "sns.heatmap(cm,annot=True,fmt='.1f')\n",
        "plt.title('confusion matrix')\n",
        "plt.ylabel('Actual label')\n",
        "plt.xlabel('Predicted label')"
      ],
      "metadata": {
        "colab": {
          "base_uri": "https://localhost:8080/",
          "height": 312
        },
        "id": "NTn_dRzLUvhB",
        "outputId": "e59f3fcc-d88b-4945-bb31-1f1a15832fe0"
      },
      "execution_count": null,
      "outputs": [
        {
          "output_type": "execute_result",
          "data": {
            "text/plain": [
              "Text(0.5, 15.0, 'Predicted label')"
            ]
          },
          "metadata": {},
          "execution_count": 61
        },
        {
          "output_type": "display_data",
          "data": {
            "text/plain": [
              "<Figure size 432x288 with 2 Axes>"
            ],
            "image/png": "[encoded data removed]"
          },
          "metadata": {
            "needs_background": "light"
          }
        }
      ]
    },
    {
      "cell_type": "code",
      "source": [
        "round((898+198)/(898+101+210+198),2) #accuracy"
      ],
      "metadata": {
        "colab": {
          "base_uri": "https://localhost:8080/"
        },
        "id": "bHQUqSalVp6X",
        "outputId": "1957a2c6-535d-417c-d4bd-5f919203bb82"
      },
      "execution_count": null,
      "outputs": [
        {
          "output_type": "execute_result",
          "data": {
            "text/plain": [
              "0.78"
            ]
          },
          "metadata": {},
          "execution_count": 64
        }
      ]
    },
    {
      "cell_type": "code",
      "source": [
        "round(898/(898+210),2) #precision for 0 class"
      ],
      "metadata": {
        "colab": {
          "base_uri": "https://localhost:8080/"
        },
        "id": "IBrbj5WuYB7j",
        "outputId": "6cd9d369-e40d-4cd5-fdf7-58d38d24857d"
      },
      "execution_count": null,
      "outputs": [
        {
          "output_type": "execute_result",
          "data": {
            "text/plain": [
              "0.81"
            ]
          },
          "metadata": {},
          "execution_count": 69
        }
      ]
    },
    {
      "cell_type": "code",
      "source": [
        "round(198/(101+198),2) #precision for 1 class"
      ],
      "metadata": {
        "colab": {
          "base_uri": "https://localhost:8080/"
        },
        "id": "cgTTebrzWG9b",
        "outputId": "6b469f77-0bc6-4c85-f07e-abadf61e6504"
      },
      "execution_count": null,
      "outputs": [
        {
          "output_type": "execute_result",
          "data": {
            "text/plain": [
              "0.66"
            ]
          },
          "metadata": {},
          "execution_count": 70
        }
      ]
    },
    {
      "cell_type": "code",
      "source": [
        "round(898/(898+101),2) #recall for 0"
      ],
      "metadata": {
        "colab": {
          "base_uri": "https://localhost:8080/"
        },
        "id": "3soak8XzW3lX",
        "outputId": "b16fa7cc-16ab-4a83-9b76-0a9eecd2bc05"
      },
      "execution_count": null,
      "outputs": [
        {
          "output_type": "execute_result",
          "data": {
            "text/plain": [
              "0.9"
            ]
          },
          "metadata": {},
          "execution_count": 72
        }
      ]
    },
    {
      "cell_type": "code",
      "source": [
        "round(198/(210+198),2)"
      ],
      "metadata": {
        "colab": {
          "base_uri": "https://localhost:8080/"
        },
        "id": "s1MFmxxUYdF6",
        "outputId": "d38323ee-6070-4f57-e538-fad97e73f6c1"
      },
      "execution_count": null,
      "outputs": [
        {
          "output_type": "execute_result",
          "data": {
            "text/plain": [
              "0.49"
            ]
          },
          "metadata": {},
          "execution_count": 74
        }
      ]
    },
    {
      "cell_type": "code",
      "source": [
        ""
      ],
      "metadata": {
        "id": "rM_9NdczYmmq"
      },
      "execution_count": null,
      "outputs": []
    }
  ]
}
